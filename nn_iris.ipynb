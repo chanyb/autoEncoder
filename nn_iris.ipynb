{
 "cells": [
  {
   "cell_type": "code",
   "execution_count": 684,
   "id": "93bc777e",
   "metadata": {
    "scrolled": false
   },
   "outputs": [],
   "source": [
    "#10-2 IRIS데이터를 이용한 오토인코더 구현\n",
    "import numpy as np\n",
    "from tensorflow.keras.layers import Input, Dense, Flatten, Reshape, Conv1D, Conv1DTranspose\n",
    "from tensorflow.keras.models import Model\n",
    "from tensorflow.keras import backend as K\n",
    "\n",
    "\n",
    "# Split Train, Test Dataset From All Dataset\n",
    "def split_train_test(X, y): # (allData, 150, 100)\n",
    "    total_length=150; train_length=120; feature_length=4;\n",
    "    \n",
    "    # dataset과 같은 차원의 zeros ndarray 생성\n",
    "    all_idx_arr = []\n",
    "    X_train = np.zeros(shape=[train_length, feature_length]) # train_data초기화\n",
    "    y_train = np.zeros(shape=[train_length, 3])\n",
    "    \n",
    "    X_test = np.zeros(shape=[total_length - train_length, feature_length]) # test_data초기화\n",
    "    y_test = np.zeros(shape=[total_length - train_length, 3])\n",
    "    \n",
    "    \n",
    "    for i in range(0, total_length):\n",
    "        all_idx_arr.append(i)\n",
    "    \n",
    "    \n",
    "    train_idx_arr = np.random.choice(total_length, train_length, replace=False)\n",
    "    test_idx_arr = list(set(all_idx_arr) - set(train_idx_arr))\n",
    "    \n",
    "    j=0;\n",
    "    for i in train_idx_arr:\n",
    "        X_train[j] = X[i]\n",
    "        if y[i] == 0:\n",
    "            y_train[j] = np.array([1,0,0])\n",
    "        elif y[i] == 1:\n",
    "            y_train[j] = np.array([0,1,0])\n",
    "        elif y[i] == 2:\n",
    "            y_train[j] = np.array([0,0,1])\n",
    "        \n",
    "        j+=1\n",
    "    \n",
    "    j=0\n",
    "    for i in test_idx_arr:\n",
    "        X_test[j] = X[i]\n",
    "        if y[i] == 0:\n",
    "            y_test[j] = np.array([1,0,0])\n",
    "        elif y[i] == 1:\n",
    "            y_test[j] = np.array([0,1,0])\n",
    "        elif y[i] == 2:\n",
    "            y_test[j] = np.array([0,0,1])\n",
    "            \n",
    "        j+=1\n",
    "        \n",
    "    return X_train, y_train, X_test, y_test\n",
    "\n",
    "#IRIS 데이터 Load\n",
    "from sklearn import datasets\n",
    "allData = datasets.load_iris()\n",
    "X = allData.data\n",
    "y = allData.target\n",
    "\n",
    "(X_train, y_train, X_test, y_test) = split_train_test(X, y)\n"
   ]
  },
  {
   "cell_type": "code",
   "execution_count": 685,
   "id": "892eed70",
   "metadata": {
    "scrolled": true
   },
   "outputs": [
    {
     "name": "stdout",
     "output_type": "stream",
     "text": [
      "Epoch 1/30\n",
      "2/2 [==============================] - 0s 96ms/step - loss: 15.7944 - val_loss: 14.8868\n",
      "Epoch 2/30\n",
      "2/2 [==============================] - 0s 12ms/step - loss: 15.5682 - val_loss: 14.6354\n",
      "Epoch 3/30\n",
      "2/2 [==============================] - 0s 11ms/step - loss: 15.3054 - val_loss: 14.3347\n",
      "Epoch 4/30\n",
      "2/2 [==============================] - 0s 11ms/step - loss: 14.9907 - val_loss: 13.9673\n",
      "Epoch 5/30\n",
      "2/2 [==============================] - 0s 10ms/step - loss: 14.6030 - val_loss: 13.5219\n",
      "Epoch 6/30\n",
      "2/2 [==============================] - 0s 11ms/step - loss: 14.1301 - val_loss: 12.9983\n",
      "Epoch 7/30\n",
      "2/2 [==============================] - 0s 11ms/step - loss: 13.5888 - val_loss: 12.4128\n",
      "Epoch 8/30\n",
      "2/2 [==============================] - 0s 11ms/step - loss: 12.9857 - val_loss: 11.7904\n",
      "Epoch 9/30\n",
      "2/2 [==============================] - 0s 10ms/step - loss: 12.3397 - val_loss: 11.1474\n",
      "Epoch 10/30\n",
      "2/2 [==============================] - 0s 11ms/step - loss: 11.6820 - val_loss: 10.5085\n",
      "Epoch 11/30\n",
      "2/2 [==============================] - 0s 10ms/step - loss: 11.0255 - val_loss: 9.8699\n",
      "Epoch 12/30\n",
      "2/2 [==============================] - 0s 11ms/step - loss: 10.3757 - val_loss: 9.2283\n",
      "Epoch 13/30\n",
      "2/2 [==============================] - 0s 11ms/step - loss: 9.7243 - val_loss: 8.5824\n",
      "Epoch 14/30\n",
      "2/2 [==============================] - 0s 10ms/step - loss: 9.0609 - val_loss: 7.9314\n",
      "Epoch 15/30\n",
      "2/2 [==============================] - 0s 11ms/step - loss: 8.3997 - val_loss: 7.2783\n",
      "Epoch 16/30\n",
      "2/2 [==============================] - 0s 10ms/step - loss: 7.7192 - val_loss: 6.6260\n",
      "Epoch 17/30\n",
      "2/2 [==============================] - 0s 11ms/step - loss: 7.0521 - val_loss: 5.9755\n",
      "Epoch 18/30\n",
      "2/2 [==============================] - 0s 11ms/step - loss: 6.3806 - val_loss: 5.3387\n",
      "Epoch 19/30\n",
      "2/2 [==============================] - 0s 11ms/step - loss: 5.7217 - val_loss: 4.7188\n",
      "Epoch 20/30\n",
      "2/2 [==============================] - 0s 11ms/step - loss: 5.0746 - val_loss: 4.1254\n",
      "Epoch 21/30\n",
      "2/2 [==============================] - 0s 11ms/step - loss: 4.4604 - val_loss: 3.5689\n",
      "Epoch 22/30\n",
      "2/2 [==============================] - 0s 11ms/step - loss: 3.8787 - val_loss: 3.0605\n",
      "Epoch 23/30\n",
      "2/2 [==============================] - 0s 10ms/step - loss: 3.3589 - val_loss: 2.6104\n",
      "Epoch 24/30\n",
      "2/2 [==============================] - 0s 11ms/step - loss: 2.8749 - val_loss: 2.2254\n",
      "Epoch 25/30\n",
      "2/2 [==============================] - 0s 10ms/step - loss: 2.4697 - val_loss: 1.9083\n",
      "Epoch 26/30\n",
      "2/2 [==============================] - 0s 11ms/step - loss: 2.1545 - val_loss: 1.6594\n",
      "Epoch 27/30\n",
      "2/2 [==============================] - 0s 11ms/step - loss: 1.8702 - val_loss: 1.4729\n",
      "Epoch 28/30\n",
      "2/2 [==============================] - 0s 11ms/step - loss: 1.6667 - val_loss: 1.3385\n",
      "Epoch 29/30\n",
      "2/2 [==============================] - 0s 11ms/step - loss: 1.5086 - val_loss: 1.2463\n",
      "Epoch 30/30\n",
      "2/2 [==============================] - 0s 10ms/step - loss: 1.3955 - val_loss: 1.1930\n"
     ]
    },
    {
     "data": {
      "text/plain": [
       "<tensorflow.python.keras.callbacks.History at 0x1ff34326dc0>"
      ]
     },
     "execution_count": 685,
     "metadata": {},
     "output_type": "execute_result"
    }
   ],
   "source": [
    "#### 인코더 설계\n",
    "encoder_input = Input(shape=(4,))\n",
    "x = Dense(64, activation='relu')(encoder_input)\n",
    "x = Dense(64, activation='relu')(x)\n",
    "x = Dense(3, activation='softmax')(x)\n",
    "x = Flatten()(x)\n",
    "zdim = 2\n",
    "encoder_output = Dense(zdim)(x)\n",
    "encoder = Model(encoder_input, encoder_output);\n",
    "\n",
    "# encoder.compile(optimizer='Adam', loss='mse', metrics=['acc'])\n",
    "# history = encoder.fit(X_train, y_train, epochs=100, validation_split=0.2)\n",
    "\n",
    "#### 디코더 설계\n",
    "decoder_input = Input(shape=(zdim,))\n",
    "x = Dense(3)(decoder_input)\n",
    "x = Dense(64, activation='relu')(x)\n",
    "x = Dense(64, activation='relu')(x)\n",
    "x = Dense(4, activation='relu')(x)\n",
    "\n",
    "decoder_output = x\n",
    "decoder = Model(decoder_input, decoder_output)\n",
    "\n",
    "model_input = encoder_input\n",
    "model_output = decoder(encoder_output)\n",
    "\n",
    "#### 오토인코더 모델 생성\n",
    "model = Model(model_input, model_output) \n",
    "\n",
    "#### 오토인코더 학습\n",
    "model.compile(optimizer='Adam', loss='mse')\n",
    "model.fit(X_train, X_train, epochs=30, batch_size=64, shuffle=True, validation_split=0.2)"
   ]
  },
  {
   "cell_type": "code",
   "execution_count": 747,
   "id": "be4889c4",
   "metadata": {},
   "outputs": [
    {
     "name": "stdout",
     "output_type": "stream",
     "text": [
      "[[5.5032673 3.724039  3.6318579 1.5039613]\n",
      " [5.4934273 3.7173066 3.625582  1.5012739]\n",
      " [5.480448  3.7084947 3.6172333 1.4977713]\n",
      " [5.4888163 3.714183  3.622609  1.5000339]\n",
      " [5.4865036 3.7126145 3.62112   1.4994107]\n",
      " [5.478304  3.707028  3.615865  1.497186 ]\n",
      " [5.498687  3.7209005 3.6289423 1.5027074]\n",
      " [5.503157  3.7239623 3.6317894 1.5039307]\n",
      " [5.5019736 3.7231455 3.6310422 1.5036031]\n",
      " [5.4942746 3.7178903 3.6261182 1.5015079]\n",
      " [5.4955845 3.718788  3.6269524 1.501866 ]\n",
      " [5.494065  3.717744  3.6259873 1.5014488]\n",
      " [5.491292  3.715862  3.624204  1.5007006]\n",
      " [5.502077  3.72322   3.6311042 1.5036335]\n",
      " [5.5005383 3.7221613 3.630129  1.5032097]\n",
      " [5.4994774 3.7214506 3.6294372 1.502929 ]\n",
      " [5.50161   3.722898  3.6308086 1.5035045]\n",
      " [5.500719  3.7222831 3.630246  1.5032576]\n",
      " [5.5002947 3.7219896 3.629978  1.50314  ]\n",
      " [5.501815  3.7230372 3.6309407 1.5035597]\n",
      " [5.4988594 3.721016  3.6290555 1.5027529]\n",
      " [5.499565  3.7214947 3.6295092 1.502943 ]\n",
      " [5.500247  3.7219622 3.6299417 1.5031303]\n",
      " [5.499981  3.7217822 3.6297712 1.5030586]\n",
      " [5.5017633 3.7230015 3.6309083 1.503545 ]\n",
      " [5.503193  3.7239878 3.6318119 1.503941 ]\n",
      " [5.503379  3.7241156 3.6319294 1.5039922]\n",
      " [5.5013466 3.7227185 3.6306403 1.5034328]\n",
      " [5.502141  3.7232633 3.6311452 1.5036508]\n",
      " [5.503042  3.7238834 3.6317174 1.503899 ]]\n"
     ]
    }
   ],
   "source": [
    "#### X_test를 복원하는 예측 실험\n",
    "res = model.predict(X_test)\n",
    "print(res)\n",
    "\n",
    "# print(model.get_weights()[0])"
   ]
  },
  {
   "cell_type": "code",
   "execution_count": 748,
   "id": "07614b6e",
   "metadata": {},
   "outputs": [
    {
     "data": {
      "image/png": "[encoded data removed]",
      "text/plain": [
       "<Figure size 432x288 with 2 Axes>"
      ]
     },
     "metadata": {
      "needs_background": "light"
     },
     "output_type": "display_data"
    }
   ],
   "source": [
    "#### 2차원 공간에 뿌려 Manifold 확인\n",
    "z = encoder.predict(X_test)\n",
    "\n",
    "A = np.array([1.,0.,0.])\n",
    "B = np.array([0.,1.,0.])\n",
    "C = np.array([0.,0.,1.])\n",
    "\n",
    "origin_y_test = []\n",
    "for i in range(0,len(y_test)):\n",
    "    if np.array_equal(A, y_test[i]):\n",
    "        origin_y_test.append(0)\n",
    "    elif np.array_equal(B, y_test[i]):\n",
    "        origin_y_test.append(1)\n",
    "    else:\n",
    "        origin_y_test.append(2)\n",
    "        \n",
    "\n",
    "plt.scatter(z[:,0], z[:,1], s=100, alpha=1, c=origin_y_test, edgecolors='black')\n",
    "\n",
    "cb=plt.colorbar(label='species')\n",
    "cb.set_ticks([0,1,2])\n",
    "cb.set_ticklabels([\"setosa\",\"versicolor\",\"virginica\"])\n",
    "plt.show()"
   ]
  },
  {
   "cell_type": "code",
   "execution_count": 639,
   "id": "d0c4efd4",
   "metadata": {},
   "outputs": [
    {
     "data": {
      "text/plain": [
       "[0,\n",
       " 0,\n",
       " 0,\n",
       " 2,\n",
       " 2,\n",
       " 2,\n",
       " 0,\n",
       " 0,\n",
       " 0,\n",
       " 2,\n",
       " 0,\n",
       " 0,\n",
       " 0,\n",
       " 0,\n",
       " 1,\n",
       " 1,\n",
       " 1,\n",
       " 1,\n",
       " 1,\n",
       " 1,\n",
       " 1,\n",
       " 1,\n",
       " 1,\n",
       " 1,\n",
       " 2,\n",
       " 2,\n",
       " 2,\n",
       " 2,\n",
       " 2,\n",
       " 2]"
      ]
     },
     "execution_count": 639,
     "metadata": {},
     "output_type": "execute_result"
    }
   ],
   "source": [
    "\n",
    "    \n",
    "\n",
    "\n"
   ]
  },
  {
   "cell_type": "code",
   "execution_count": null,
   "id": "939e96ae",
   "metadata": {},
   "outputs": [],
   "source": []
  },
  {
   "cell_type": "code",
   "execution_count": null,
   "id": "20495a16",
   "metadata": {},
   "outputs": [],
   "source": []
  },
  {
   "cell_type": "code",
   "execution_count": null,
   "id": "0de8d417",
   "metadata": {},
   "outputs": [],
   "source": []
  },
  {
   "cell_type": "code",
   "execution_count": null,
   "id": "84838e93",
   "metadata": {},
   "outputs": [],
   "source": []
  },
  {
   "cell_type": "code",
   "execution_count": null,
   "id": "0f078df1",
   "metadata": {},
   "outputs": [],
   "source": []
  },
  {
   "cell_type": "code",
   "execution_count": null,
   "id": "179eb155",
   "metadata": {},
   "outputs": [],
   "source": []
  },
  {
   "cell_type": "code",
   "execution_count": 525,
   "id": "91ae1951",
   "metadata": {
    "scrolled": true
   },
   "outputs": [
    {
     "data": {
      "image/png": "[encoded data removed]",
      "text/plain": [
       "<Figure size 432x288 with 1 Axes>"
      ]
     },
     "metadata": {
      "needs_background": "light"
     },
     "output_type": "display_data"
    },
    {
     "data": {
      "image/png": "[encoded data removed]",
      "text/plain": [
       "<Figure size 432x288 with 1 Axes>"
      ]
     },
     "metadata": {
      "needs_background": "light"
     },
     "output_type": "display_data"
    }
   ],
   "source": [
    "loss = history.history['loss']\n",
    "val_loss = history.history['val_loss']\n",
    "acc = history.history['acc']\n",
    "val_acc = history.history['val_acc']\n",
    "\n",
    "epochs = range(1, len(loss) + 1)\n",
    "\n",
    "plt.plot(epochs, loss, 'b--', label='training loss')\n",
    "plt.plot(epochs, val_loss, 'r:', label='validation loss')\n",
    "plt.grid()\n",
    "plt.legend()\n",
    "\n",
    "plt.figure()\n",
    "plt.plot(epochs, acc, 'b--', label='training accuracy')\n",
    "plt.plot(epochs, val_acc, 'r:', label='validation accuracy')\n",
    "plt.grid()\n",
    "plt.legend()\n",
    "\n",
    "plt.show()"
   ]
  },
  {
   "cell_type": "code",
   "execution_count": 562,
   "id": "9d50df4e",
   "metadata": {},
   "outputs": [
    {
     "name": "stdout",
     "output_type": "stream",
     "text": [
      "1/1 - 0s - loss: 0.0119 - acc: 1.0000\n",
      "[0.0119012501090765, 1.0]\n"
     ]
    }
   ],
   "source": [
    "# y_test\n",
    "res = model.evaluate(X_test, y_test)\n",
    "print(res)"
   ]
  },
  {
   "cell_type": "code",
   "execution_count": null,
   "id": "523b1114",
   "metadata": {},
   "outputs": [],
   "source": []
  },
  {
   "cell_type": "code",
   "execution_count": null,
   "id": "d3984cbc",
   "metadata": {},
   "outputs": [],
   "source": []
  },
  {
   "cell_type": "code",
   "execution_count": null,
   "id": "b8c84f41",
   "metadata": {},
   "outputs": [],
   "source": []
  }
 ],
 "metadata": {
  "kernelspec": {
   "display_name": "Python 3",
   "language": "python",
   "name": "python3"
  },
  "language_info": {
   "codemirror_mode": {
    "name": "ipython",
    "version": 3
   },
   "file_extension": ".py",
   "mimetype": "text/x-python",
   "name": "python",
   "nbconvert_exporter": "python",
   "pygments_lexer": "ipython3",
   "version": "3.8.8"
  }
 },
 "nbformat": 4,
 "nbformat_minor": 5
}
